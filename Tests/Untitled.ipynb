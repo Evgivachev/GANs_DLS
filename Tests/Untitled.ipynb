{
 "cells": [
  {
   "cell_type": "code",
   "execution_count": 5,
   "metadata": {},
   "outputs": [],
   "source": [
    "import os \n",
    "os.path.dirname(os.path.normpath(os.getcwd())) \n",
    "os.chdir(os.path.dirname(os.path.normpath(os.getcwd())) )"
   ]
  },
  {
   "cell_type": "code",
   "execution_count": 6,
   "metadata": {},
   "outputs": [
    {
     "data": {
      "text/plain": [
       "'D:\\\\Notebooks'"
      ]
     },
     "execution_count": 6,
     "metadata": {},
     "output_type": "execute_result"
    }
   ],
   "source": [
    "os.getcwd()"
   ]
  },
  {
   "cell_type": "code",
   "execution_count": 17,
   "metadata": {},
   "outputs": [],
   "source": [
    "import torch\n",
    "from torch import nn\n",
    "from torchvision import datasets\n",
    "from torchsummary import summary\n",
    "from MyGAN import *\n",
    "from ResnetGenerator import *\n",
    "from NLayerDiscriminator import *"
   ]
  },
  {
   "cell_type": "code",
   "execution_count": 8,
   "metadata": {},
   "outputs": [],
   "source": [
    "g = ResnetGenerator()\n",
    "d = NLayerDiscriminator(input_nc=3)"
   ]
  },
  {
   "cell_type": "code",
   "execution_count": 9,
   "metadata": {},
   "outputs": [],
   "source": [
    "device = 'cuda'"
   ]
  },
  {
   "cell_type": "code",
   "execution_count": 10,
   "metadata": {},
   "outputs": [],
   "source": [
    "criterion = nn.BCELoss()"
   ]
  },
  {
   "cell_type": "code",
   "execution_count": 11,
   "metadata": {},
   "outputs": [],
   "source": [
    "gan = GanModel(g,d,criterion,device)"
   ]
  },
  {
   "cell_type": "code",
   "execution_count": 12,
   "metadata": {},
   "outputs": [],
   "source": [
    "sample = gan.sampleX((1,3,32,32),-2.5,0.5)"
   ]
  },
  {
   "cell_type": "code",
   "execution_count": 14,
   "metadata": {
    "collapsed": true,
    "jupyter": {
     "outputs_hidden": true
    }
   },
   "outputs": [
    {
     "name": "stdout",
     "output_type": "stream",
     "text": [
      "----------------------------------------------------------------\n",
      "        Layer (type)               Output Shape         Param #\n",
      "================================================================\n",
      "   ReflectionPad2d-1            [-1, 3, 38, 38]               0\n",
      "            Conv2d-2           [-1, 64, 32, 32]           9,408\n",
      "       BatchNorm2d-3           [-1, 64, 32, 32]             128\n",
      "              ReLU-4           [-1, 64, 32, 32]               0\n",
      "            Conv2d-5          [-1, 128, 16, 16]          73,728\n",
      "       BatchNorm2d-6          [-1, 128, 16, 16]             256\n",
      "              ReLU-7          [-1, 128, 16, 16]               0\n",
      "            Conv2d-8            [-1, 256, 8, 8]         294,912\n",
      "       BatchNorm2d-9            [-1, 256, 8, 8]             512\n",
      "             ReLU-10            [-1, 256, 8, 8]               0\n",
      "  ReflectionPad2d-11          [-1, 256, 10, 10]               0\n",
      "           Conv2d-12            [-1, 256, 8, 8]         589,824\n",
      "      BatchNorm2d-13            [-1, 256, 8, 8]             512\n",
      "             ReLU-14            [-1, 256, 8, 8]               0\n",
      "          Dropout-15            [-1, 256, 8, 8]               0\n",
      "  ReflectionPad2d-16          [-1, 256, 10, 10]               0\n",
      "           Conv2d-17            [-1, 256, 8, 8]         589,824\n",
      "      BatchNorm2d-18            [-1, 256, 8, 8]             512\n",
      "    ResidualBlock-19            [-1, 256, 8, 8]               0\n",
      "  ReflectionPad2d-20          [-1, 256, 10, 10]               0\n",
      "           Conv2d-21            [-1, 256, 8, 8]         589,824\n",
      "      BatchNorm2d-22            [-1, 256, 8, 8]             512\n",
      "             ReLU-23            [-1, 256, 8, 8]               0\n",
      "          Dropout-24            [-1, 256, 8, 8]               0\n",
      "  ReflectionPad2d-25          [-1, 256, 10, 10]               0\n",
      "           Conv2d-26            [-1, 256, 8, 8]         589,824\n",
      "      BatchNorm2d-27            [-1, 256, 8, 8]             512\n",
      "    ResidualBlock-28            [-1, 256, 8, 8]               0\n",
      "  ReflectionPad2d-29          [-1, 256, 10, 10]               0\n",
      "           Conv2d-30            [-1, 256, 8, 8]         589,824\n",
      "      BatchNorm2d-31            [-1, 256, 8, 8]             512\n",
      "             ReLU-32            [-1, 256, 8, 8]               0\n",
      "          Dropout-33            [-1, 256, 8, 8]               0\n",
      "  ReflectionPad2d-34          [-1, 256, 10, 10]               0\n",
      "           Conv2d-35            [-1, 256, 8, 8]         589,824\n",
      "      BatchNorm2d-36            [-1, 256, 8, 8]             512\n",
      "    ResidualBlock-37            [-1, 256, 8, 8]               0\n",
      "  ReflectionPad2d-38          [-1, 256, 10, 10]               0\n",
      "           Conv2d-39            [-1, 256, 8, 8]         589,824\n",
      "      BatchNorm2d-40            [-1, 256, 8, 8]             512\n",
      "             ReLU-41            [-1, 256, 8, 8]               0\n",
      "          Dropout-42            [-1, 256, 8, 8]               0\n",
      "  ReflectionPad2d-43          [-1, 256, 10, 10]               0\n",
      "           Conv2d-44            [-1, 256, 8, 8]         589,824\n",
      "      BatchNorm2d-45            [-1, 256, 8, 8]             512\n",
      "    ResidualBlock-46            [-1, 256, 8, 8]               0\n",
      "  ReflectionPad2d-47          [-1, 256, 10, 10]               0\n",
      "           Conv2d-48            [-1, 256, 8, 8]         589,824\n",
      "      BatchNorm2d-49            [-1, 256, 8, 8]             512\n",
      "             ReLU-50            [-1, 256, 8, 8]               0\n",
      "          Dropout-51            [-1, 256, 8, 8]               0\n",
      "  ReflectionPad2d-52          [-1, 256, 10, 10]               0\n",
      "           Conv2d-53            [-1, 256, 8, 8]         589,824\n",
      "      BatchNorm2d-54            [-1, 256, 8, 8]             512\n",
      "    ResidualBlock-55            [-1, 256, 8, 8]               0\n",
      "  ReflectionPad2d-56          [-1, 256, 10, 10]               0\n",
      "           Conv2d-57            [-1, 256, 8, 8]         589,824\n",
      "      BatchNorm2d-58            [-1, 256, 8, 8]             512\n",
      "             ReLU-59            [-1, 256, 8, 8]               0\n",
      "          Dropout-60            [-1, 256, 8, 8]               0\n",
      "  ReflectionPad2d-61          [-1, 256, 10, 10]               0\n",
      "           Conv2d-62            [-1, 256, 8, 8]         589,824\n",
      "      BatchNorm2d-63            [-1, 256, 8, 8]             512\n",
      "    ResidualBlock-64            [-1, 256, 8, 8]               0\n",
      "  ConvTranspose2d-65          [-1, 128, 16, 16]         294,912\n",
      "      BatchNorm2d-66          [-1, 128, 16, 16]             256\n",
      "             ReLU-67          [-1, 128, 16, 16]               0\n",
      "  ConvTranspose2d-68           [-1, 64, 32, 32]          73,728\n",
      "      BatchNorm2d-69           [-1, 64, 32, 32]             128\n",
      "             ReLU-70           [-1, 64, 32, 32]               0\n",
      "  ReflectionPad2d-71           [-1, 64, 38, 38]               0\n",
      "           Conv2d-72            [-1, 3, 32, 32]           9,411\n",
      "             Tanh-73            [-1, 3, 32, 32]               0\n",
      "================================================================\n",
      "Total params: 7,841,411\n",
      "Trainable params: 7,841,411\n",
      "Non-trainable params: 0\n",
      "----------------------------------------------------------------\n",
      "Input size (MB): 0.01\n",
      "Forward/backward pass size (MB): 13.25\n",
      "Params size (MB): 29.91\n",
      "Estimated Total Size (MB): 43.18\n",
      "----------------------------------------------------------------\n"
     ]
    }
   ],
   "source": [
    "summary(g,input_size=(3,32,32))"
   ]
  },
  {
   "cell_type": "code",
   "execution_count": 19,
   "metadata": {},
   "outputs": [
    {
     "ename": "NameError",
     "evalue": "name 'transforms' is not defined",
     "output_type": "error",
     "traceback": [
      "\u001b[1;31m---------------------------------------------------------------------------\u001b[0m",
      "\u001b[1;31mNameError\u001b[0m                                 Traceback (most recent call last)",
      "\u001b[1;32m<ipython-input-19-9ad3c2e82ac1>\u001b[0m in \u001b[0;36m<module>\u001b[1;34m\u001b[0m\n\u001b[1;32m----> 1\u001b[1;33m transform = transforms.Compose(\n\u001b[0m\u001b[0;32m      2\u001b[0m             [transforms.Resize(224),\n\u001b[0;32m      3\u001b[0m              \u001b[0mtransforms\u001b[0m\u001b[1;33m.\u001b[0m\u001b[0mToTensor\u001b[0m\u001b[1;33m(\u001b[0m\u001b[1;33m)\u001b[0m\u001b[1;33m,\u001b[0m\u001b[1;33m\u001b[0m\u001b[1;33m\u001b[0m\u001b[0m\n\u001b[0;32m      4\u001b[0m              transforms.Normalize(mean=[0.485, 0.456, 0.406],\n\u001b[0;32m      5\u001b[0m                                   std=[0.229, 0.224, 0.225]),\n",
      "\u001b[1;31mNameError\u001b[0m: name 'transforms' is not defined"
     ]
    }
   ],
   "source": [
    "transform = transforms.Compose(\n",
    "            [transforms.Resize(224),\n",
    "             transforms.ToTensor(),\n",
    "             transforms.Normalize(mean=[0.485, 0.456, 0.406],\n",
    "                                  std=[0.229, 0.224, 0.225]),\n",
    "             ])"
   ]
  },
  {
   "cell_type": "code",
   "execution_count": 18,
   "metadata": {},
   "outputs": [],
   "source": [
    "horseDataset = datasets.ImageFolder(\"D:\\Datasets\\horse2zebra\\trainA\")"
   ]
  },
  {
   "cell_type": "code",
   "execution_count": null,
   "metadata": {},
   "outputs": [],
   "source": []
  }
 ],
 "metadata": {
  "kernelspec": {
   "display_name": "Python 3",
   "language": "python",
   "name": "python3"
  },
  "language_info": {
   "codemirror_mode": {
    "name": "ipython",
    "version": 3
   },
   "file_extension": ".py",
   "mimetype": "text/x-python",
   "name": "python",
   "nbconvert_exporter": "python",
   "pygments_lexer": "ipython3",
   "version": "3.7.6"
  }
 },
 "nbformat": 4,
 "nbformat_minor": 4
}
