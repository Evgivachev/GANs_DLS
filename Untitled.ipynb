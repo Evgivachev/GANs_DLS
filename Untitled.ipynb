{
 "cells": [
  {
   "cell_type": "code",
   "execution_count": 2,
   "metadata": {},
   "outputs": [],
   "source": [
    "import torch"
   ]
  },
  {
   "cell_type": "code",
   "execution_count": 3,
   "metadata": {},
   "outputs": [],
   "source": [
    "from MyGAN import *"
   ]
  },
  {
   "cell_type": "code",
   "execution_count": 4,
   "metadata": {},
   "outputs": [],
   "source": [
    "g = Generator([3,256,256,128,1])"
   ]
  },
  {
   "cell_type": "code",
   "execution_count": 5,
   "metadata": {},
   "outputs": [
    {
     "name": "stdout",
     "output_type": "stream",
     "text": [
      "Generator(\n",
      "  (model): Sequential(\n",
      "    (0): ResidualBlock(\n",
      "      (activation): ReLU(inplace=True)\n",
      "      (conv): Conv2d(3, 3, kernel_size=(3, 3), stride=(1, 1), padding=(1, 1))\n",
      "      (activate): ReLU(inplace=True)\n",
      "    )\n",
      "    (1): ResidualBlock(\n",
      "      (activation): ReLU(inplace=True)\n",
      "      (conv): Conv2d(256, 256, kernel_size=(3, 3), stride=(1, 1), padding=(1, 1))\n",
      "      (activate): ReLU(inplace=True)\n",
      "    )\n",
      "    (2): ResidualBlock(\n",
      "      (activation): ReLU(inplace=True)\n",
      "      (conv): Conv2d(256, 256, kernel_size=(3, 3), stride=(1, 1), padding=(1, 1))\n",
      "      (activate): ReLU(inplace=True)\n",
      "    )\n",
      "    (3): ResidualBlock(\n",
      "      (activation): ReLU(inplace=True)\n",
      "      (conv): Conv2d(128, 128, kernel_size=(3, 3), stride=(1, 1), padding=(1, 1))\n",
      "      (activate): ReLU(inplace=True)\n",
      "    )\n",
      "  )\n",
      ")\n"
     ]
    }
   ],
   "source": [
    "print(g)"
   ]
  },
  {
   "cell_type": "code",
   "execution_count": 46,
   "metadata": {},
   "outputs": [
    {
     "name": "stdout",
     "output_type": "stream",
     "text": [
      "[Conv2d(3, 64, kernel_size=(7, 7), stride=(2, 2), padding=(3, 3), bias=False), BatchNorm2d(64, eps=1e-05, momentum=0.1, affine=True, track_running_stats=True), ReLU(inplace=True), MaxPool2d(kernel_size=3, stride=2, padding=1, dilation=1, ceil_mode=False), Sequential(\n",
      "  (0): BasicBlock(\n",
      "    (conv1): Conv2d(64, 64, kernel_size=(3, 3), stride=(1, 1), padding=(1, 1), bias=False)\n",
      "    (bn1): BatchNorm2d(64, eps=1e-05, momentum=0.1, affine=True, track_running_stats=True)\n",
      "    (relu): ReLU(inplace=True)\n",
      "    (conv2): Conv2d(64, 64, kernel_size=(3, 3), stride=(1, 1), padding=(1, 1), bias=False)\n",
      "    (bn2): BatchNorm2d(64, eps=1e-05, momentum=0.1, affine=True, track_running_stats=True)\n",
      "  )\n",
      "  (1): BasicBlock(\n",
      "    (conv1): Conv2d(64, 64, kernel_size=(3, 3), stride=(1, 1), padding=(1, 1), bias=False)\n",
      "    (bn1): BatchNorm2d(64, eps=1e-05, momentum=0.1, affine=True, track_running_stats=True)\n",
      "    (relu): ReLU(inplace=True)\n",
      "    (conv2): Conv2d(64, 64, kernel_size=(3, 3), stride=(1, 1), padding=(1, 1), bias=False)\n",
      "    (bn2): BatchNorm2d(64, eps=1e-05, momentum=0.1, affine=True, track_running_stats=True)\n",
      "  )\n",
      "), Sequential(\n",
      "  (0): BasicBlock(\n",
      "    (conv1): Conv2d(64, 128, kernel_size=(3, 3), stride=(2, 2), padding=(1, 1), bias=False)\n",
      "    (bn1): BatchNorm2d(128, eps=1e-05, momentum=0.1, affine=True, track_running_stats=True)\n",
      "    (relu): ReLU(inplace=True)\n",
      "    (conv2): Conv2d(128, 128, kernel_size=(3, 3), stride=(1, 1), padding=(1, 1), bias=False)\n",
      "    (bn2): BatchNorm2d(128, eps=1e-05, momentum=0.1, affine=True, track_running_stats=True)\n",
      "    (downsample): Sequential(\n",
      "      (0): Conv2d(64, 128, kernel_size=(1, 1), stride=(2, 2), bias=False)\n",
      "      (1): BatchNorm2d(128, eps=1e-05, momentum=0.1, affine=True, track_running_stats=True)\n",
      "    )\n",
      "  )\n",
      "  (1): BasicBlock(\n",
      "    (conv1): Conv2d(128, 128, kernel_size=(3, 3), stride=(1, 1), padding=(1, 1), bias=False)\n",
      "    (bn1): BatchNorm2d(128, eps=1e-05, momentum=0.1, affine=True, track_running_stats=True)\n",
      "    (relu): ReLU(inplace=True)\n",
      "    (conv2): Conv2d(128, 128, kernel_size=(3, 3), stride=(1, 1), padding=(1, 1), bias=False)\n",
      "    (bn2): BatchNorm2d(128, eps=1e-05, momentum=0.1, affine=True, track_running_stats=True)\n",
      "  )\n",
      "), Sequential(\n",
      "  (0): BasicBlock(\n",
      "    (conv1): Conv2d(128, 256, kernel_size=(3, 3), stride=(2, 2), padding=(1, 1), bias=False)\n",
      "    (bn1): BatchNorm2d(256, eps=1e-05, momentum=0.1, affine=True, track_running_stats=True)\n",
      "    (relu): ReLU(inplace=True)\n",
      "    (conv2): Conv2d(256, 256, kernel_size=(3, 3), stride=(1, 1), padding=(1, 1), bias=False)\n",
      "    (bn2): BatchNorm2d(256, eps=1e-05, momentum=0.1, affine=True, track_running_stats=True)\n",
      "    (downsample): Sequential(\n",
      "      (0): Conv2d(128, 256, kernel_size=(1, 1), stride=(2, 2), bias=False)\n",
      "      (1): BatchNorm2d(256, eps=1e-05, momentum=0.1, affine=True, track_running_stats=True)\n",
      "    )\n",
      "  )\n",
      "  (1): BasicBlock(\n",
      "    (conv1): Conv2d(256, 256, kernel_size=(3, 3), stride=(1, 1), padding=(1, 1), bias=False)\n",
      "    (bn1): BatchNorm2d(256, eps=1e-05, momentum=0.1, affine=True, track_running_stats=True)\n",
      "    (relu): ReLU(inplace=True)\n",
      "    (conv2): Conv2d(256, 256, kernel_size=(3, 3), stride=(1, 1), padding=(1, 1), bias=False)\n",
      "    (bn2): BatchNorm2d(256, eps=1e-05, momentum=0.1, affine=True, track_running_stats=True)\n",
      "  )\n",
      "), Sequential(\n",
      "  (0): BasicBlock(\n",
      "    (conv1): Conv2d(256, 512, kernel_size=(3, 3), stride=(2, 2), padding=(1, 1), bias=False)\n",
      "    (bn1): BatchNorm2d(512, eps=1e-05, momentum=0.1, affine=True, track_running_stats=True)\n",
      "    (relu): ReLU(inplace=True)\n",
      "    (conv2): Conv2d(512, 512, kernel_size=(3, 3), stride=(1, 1), padding=(1, 1), bias=False)\n",
      "    (bn2): BatchNorm2d(512, eps=1e-05, momentum=0.1, affine=True, track_running_stats=True)\n",
      "    (downsample): Sequential(\n",
      "      (0): Conv2d(256, 512, kernel_size=(1, 1), stride=(2, 2), bias=False)\n",
      "      (1): BatchNorm2d(512, eps=1e-05, momentum=0.1, affine=True, track_running_stats=True)\n",
      "    )\n",
      "  )\n",
      "  (1): BasicBlock(\n",
      "    (conv1): Conv2d(512, 512, kernel_size=(3, 3), stride=(1, 1), padding=(1, 1), bias=False)\n",
      "    (bn1): BatchNorm2d(512, eps=1e-05, momentum=0.1, affine=True, track_running_stats=True)\n",
      "    (relu): ReLU(inplace=True)\n",
      "    (conv2): Conv2d(512, 512, kernel_size=(3, 3), stride=(1, 1), padding=(1, 1), bias=False)\n",
      "    (bn2): BatchNorm2d(512, eps=1e-05, momentum=0.1, affine=True, track_running_stats=True)\n",
      "  )\n",
      ")]\n"
     ]
    }
   ],
   "source": [
    "print(m)"
   ]
  },
  {
   "cell_type": "code",
   "execution_count": 47,
   "metadata": {},
   "outputs": [],
   "source": [
    "from torchsummary import summary"
   ]
  },
  {
   "cell_type": "code",
   "execution_count": 48,
   "metadata": {},
   "outputs": [],
   "source": [
    "devise = 'cuda'"
   ]
  },
  {
   "cell_type": "code",
   "execution_count": 49,
   "metadata": {},
   "outputs": [],
   "source": [
    "model = torch.nn.Sequential(*m)"
   ]
  },
  {
   "cell_type": "code",
   "execution_count": 51,
   "metadata": {},
   "outputs": [
    {
     "name": "stdout",
     "output_type": "stream",
     "text": [
      "----------------------------------------------------------------\n",
      "        Layer (type)               Output Shape         Param #\n",
      "================================================================\n",
      "            Conv2d-1          [1, 64, 256, 256]           9,408\n",
      "       BatchNorm2d-2          [1, 64, 256, 256]             128\n",
      "              ReLU-3          [1, 64, 256, 256]               0\n",
      "         MaxPool2d-4          [1, 64, 128, 128]               0\n",
      "            Conv2d-5          [1, 64, 128, 128]          36,864\n",
      "       BatchNorm2d-6          [1, 64, 128, 128]             128\n",
      "              ReLU-7          [1, 64, 128, 128]               0\n",
      "            Conv2d-8          [1, 64, 128, 128]          36,864\n",
      "       BatchNorm2d-9          [1, 64, 128, 128]             128\n",
      "             ReLU-10          [1, 64, 128, 128]               0\n",
      "       BasicBlock-11          [1, 64, 128, 128]               0\n",
      "           Conv2d-12          [1, 64, 128, 128]          36,864\n",
      "      BatchNorm2d-13          [1, 64, 128, 128]             128\n",
      "             ReLU-14          [1, 64, 128, 128]               0\n",
      "           Conv2d-15          [1, 64, 128, 128]          36,864\n",
      "      BatchNorm2d-16          [1, 64, 128, 128]             128\n",
      "             ReLU-17          [1, 64, 128, 128]               0\n",
      "       BasicBlock-18          [1, 64, 128, 128]               0\n",
      "           Conv2d-19           [1, 128, 64, 64]          73,728\n",
      "      BatchNorm2d-20           [1, 128, 64, 64]             256\n",
      "             ReLU-21           [1, 128, 64, 64]               0\n",
      "           Conv2d-22           [1, 128, 64, 64]         147,456\n",
      "      BatchNorm2d-23           [1, 128, 64, 64]             256\n",
      "           Conv2d-24           [1, 128, 64, 64]           8,192\n",
      "      BatchNorm2d-25           [1, 128, 64, 64]             256\n",
      "             ReLU-26           [1, 128, 64, 64]               0\n",
      "       BasicBlock-27           [1, 128, 64, 64]               0\n",
      "           Conv2d-28           [1, 128, 64, 64]         147,456\n",
      "      BatchNorm2d-29           [1, 128, 64, 64]             256\n",
      "             ReLU-30           [1, 128, 64, 64]               0\n",
      "           Conv2d-31           [1, 128, 64, 64]         147,456\n",
      "      BatchNorm2d-32           [1, 128, 64, 64]             256\n",
      "             ReLU-33           [1, 128, 64, 64]               0\n",
      "       BasicBlock-34           [1, 128, 64, 64]               0\n",
      "           Conv2d-35           [1, 256, 32, 32]         294,912\n",
      "      BatchNorm2d-36           [1, 256, 32, 32]             512\n",
      "             ReLU-37           [1, 256, 32, 32]               0\n",
      "           Conv2d-38           [1, 256, 32, 32]         589,824\n",
      "      BatchNorm2d-39           [1, 256, 32, 32]             512\n",
      "           Conv2d-40           [1, 256, 32, 32]          32,768\n",
      "      BatchNorm2d-41           [1, 256, 32, 32]             512\n",
      "             ReLU-42           [1, 256, 32, 32]               0\n",
      "       BasicBlock-43           [1, 256, 32, 32]               0\n",
      "           Conv2d-44           [1, 256, 32, 32]         589,824\n",
      "      BatchNorm2d-45           [1, 256, 32, 32]             512\n",
      "             ReLU-46           [1, 256, 32, 32]               0\n",
      "           Conv2d-47           [1, 256, 32, 32]         589,824\n",
      "      BatchNorm2d-48           [1, 256, 32, 32]             512\n",
      "             ReLU-49           [1, 256, 32, 32]               0\n",
      "       BasicBlock-50           [1, 256, 32, 32]               0\n",
      "           Conv2d-51           [1, 512, 16, 16]       1,179,648\n",
      "      BatchNorm2d-52           [1, 512, 16, 16]           1,024\n",
      "             ReLU-53           [1, 512, 16, 16]               0\n",
      "           Conv2d-54           [1, 512, 16, 16]       2,359,296\n",
      "      BatchNorm2d-55           [1, 512, 16, 16]           1,024\n",
      "           Conv2d-56           [1, 512, 16, 16]         131,072\n",
      "      BatchNorm2d-57           [1, 512, 16, 16]           1,024\n",
      "             ReLU-58           [1, 512, 16, 16]               0\n",
      "       BasicBlock-59           [1, 512, 16, 16]               0\n",
      "           Conv2d-60           [1, 512, 16, 16]       2,359,296\n",
      "      BatchNorm2d-61           [1, 512, 16, 16]           1,024\n",
      "             ReLU-62           [1, 512, 16, 16]               0\n",
      "           Conv2d-63           [1, 512, 16, 16]       2,359,296\n",
      "      BatchNorm2d-64           [1, 512, 16, 16]           1,024\n",
      "             ReLU-65           [1, 512, 16, 16]               0\n",
      "       BasicBlock-66           [1, 512, 16, 16]               0\n",
      "================================================================\n",
      "Total params: 11,176,512\n",
      "Trainable params: 11,176,512\n",
      "Non-trainable params: 0\n",
      "----------------------------------------------------------------\n",
      "Input size (MB): 3.00\n",
      "Forward/backward pass size (MB): 328.00\n",
      "Params size (MB): 42.64\n",
      "Estimated Total Size (MB): 373.64\n",
      "----------------------------------------------------------------\n"
     ]
    }
   ],
   "source": [
    "summary(model.to(devise),batch_size = 1, input_size=(3,512,512))"
   ]
  },
  {
   "cell_type": "code",
   "execution_count": 52,
   "metadata": {},
   "outputs": [
    {
     "data": {
      "text/plain": [
       "[0, 1, 2, 3, 4]"
      ]
     },
     "execution_count": 52,
     "metadata": {},
     "output_type": "execute_result"
    }
   ],
   "source": [
    "list(range(5))"
   ]
  },
  {
   "cell_type": "code",
   "execution_count": null,
   "metadata": {},
   "outputs": [],
   "source": []
  }
 ],
 "metadata": {
  "kernelspec": {
   "display_name": "Python 3",
   "language": "python",
   "name": "python3"
  },
  "language_info": {
   "codemirror_mode": {
    "name": "ipython",
    "version": 3
   },
   "file_extension": ".py",
   "mimetype": "text/x-python",
   "name": "python",
   "nbconvert_exporter": "python",
   "pygments_lexer": "ipython3",
   "version": "3.7.6"
  }
 },
 "nbformat": 4,
 "nbformat_minor": 4
}
