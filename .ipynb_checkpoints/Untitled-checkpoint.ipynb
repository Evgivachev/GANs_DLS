{
 "cells": [
  {
   "cell_type": "code",
   "execution_count": 1,
   "metadata": {},
   "outputs": [],
   "source": [
    "import sys\n",
    "import torch\n",
    "import numpy as np\n",
    "import torch.nn as nn\n",
    "import matplotlib.mlab as mlab\n",
    "import matplotlib.pyplot as plt"
   ]
  },
  {
   "cell_type": "code",
   "execution_count": 2,
   "metadata": {},
   "outputs": [],
   "source": [
    "class Gen(nn.Module):\n",
    "    def __init__(self):\n",
    "        super().__init__()\n",
    "        self.l1 = nn.Linear(1,5,True)\n",
    "        self.l2 = nn.Linear(5,1,True)\n",
    "    def forward(self,x):\n",
    "        l1 = nn.functional.relu(self.l1(x))\n",
    "        l2 = nn.functional.relu(self.l2(l1))\n",
    "        return l2"
   ]
  },
  {
   "cell_type": "code",
   "execution_count": 3,
   "metadata": {},
   "outputs": [],
   "source": [
    "class Dis(nn.Module):\n",
    "    def __init__(self):\n",
    "        super().__init__()\n",
    "        self.l1 = nn.Linear(1,10,True)\n",
    "        self.l2 = nn.Linear(10,10,True)\n",
    "        self.l3 = nn.Linear(10,1,True)\n",
    "    def forward(self,x):\n",
    "        l1 =nn.functional.relu( self.l1(x))\n",
    "        l2 = nn.functional.relu(self.l2(l1))\n",
    "        l3 = nn.functional.relu(self.l3(l2))\n",
    "        res = torch.sigmoid(l3)\n",
    "        return res"
   ]
  },
  {
   "cell_type": "code",
   "execution_count": 24,
   "metadata": {},
   "outputs": [],
   "source": [
    "gen = Gen()\n",
    "dis = Dis()"
   ]
  },
  {
   "cell_type": "code",
   "execution_count": 5,
   "metadata": {},
   "outputs": [],
   "source": [
    "def DLossFunc(xData, genData):\n",
    "    out = torch.log(xData) + torch.log(1-genData)\n",
    "    return out.sum()\n",
    "def GLossFunc(x):\n",
    "    out = torch.log(1-x)\n",
    "    return out.sum()\n"
   ]
  },
  {
   "cell_type": "code",
   "execution_count": 6,
   "metadata": {},
   "outputs": [],
   "source": [
    "batchSize = 64\n",
    "epochCount = 40000\n",
    "lr = 0.01\n",
    "prior_mu = -2.5\n",
    "prior_std = 0.5\n",
    "noise_range = 5.0\n"
   ]
  },
  {
   "cell_type": "code",
   "execution_count": 7,
   "metadata": {},
   "outputs": [],
   "source": [
    "def sampleZ(batchSize, noizeRange):\n",
    "    out = np.random.uniform(-noizeRange, noizeRange, size = [batchSize,1])\n",
    "    out = torch.Tensor(out)\n",
    "    return out\n",
    "def sampleX(batchSize, mu, std):\n",
    "    out = np.random.normal(mu,std, size = [batchSize,1])\n",
    "    out = torch.Tensor(out)\n",
    "    return out"
   ]
  },
  {
   "cell_type": "code",
   "execution_count": 109,
   "metadata": {},
   "outputs": [
    {
     "name": "stdout",
     "output_type": "stream",
     "text": [
      "tensor(-2.3474)\n"
     ]
    }
   ],
   "source": [
    "q= sampleZ(5,10)\n",
    "print(q.mean())"
   ]
  },
  {
   "cell_type": "code",
   "execution_count": 41,
   "metadata": {},
   "outputs": [],
   "source": [
    "criterion = nn.BCELoss()"
   ]
  },
  {
   "cell_type": "code",
   "execution_count": 9,
   "metadata": {},
   "outputs": [],
   "source": [
    "optGen = torch.optim.Adam(gen.parameters(), lr=lr)\n",
    "optDis = torch.optim.Adam(dis.parameters(), lr = lr)"
   ]
  },
  {
   "cell_type": "markdown",
   "metadata": {},
   "source": [
    "https://pytorch.org/tutorials/beginner/dcgan_faces_tutorial.html"
   ]
  },
  {
   "cell_type": "code",
   "execution_count": 17,
   "metadata": {},
   "outputs": [],
   "source": [
    "def train(gen, dis, epochCount, batchSize, noizeRange, prior_mu, prior_std, noize_range):\n",
    "    for epoch in range(epochCount):\n",
    "        optDis.zero_grad()\n",
    "        optGen.zero_grad()\n",
    "        # discriminator train\n",
    "        dis.zero_grad()\n",
    "        # normal\n",
    "        # real\n",
    "        xBatch = sampleX(batchSize, prior_mu, prior_std)\n",
    "\n",
    "        realDis = dis(xBatch)\n",
    "        label = torch.full(realDis.size(), 1.0, dtype=torch.float)\n",
    "        dLoss_real = criterion(realDis, label)\n",
    "        dLoss_real.backward()\n",
    "\n",
    "        # random\n",
    "        # fake\n",
    "        zBatch = sampleZ(batchSize, noizeRange=noizeRange)\n",
    "        genXBatch = gen(zBatch)\n",
    "        label.fill_(0.0)\n",
    "        fakeDis = dis(genXBatch)\n",
    "        dLoss_fake = criterion(fakeDis, label)\n",
    "        dLoss_fake.backward()\n",
    "        discriminatorLoss = dLoss_fake.item() + dLoss_real.item()\n",
    "        optDis.step()\n",
    "\n",
    "        gen.zero_grad()\n",
    "        label.fill_(1.0)\n",
    "        genXBatch = gen(zBatch)\n",
    "        fakeDis = dis(genXBatch)\n",
    "        gLoss = criterion(fakeDis, label)\n",
    "        gLoss.backward()\n",
    "        optGen.step()\n",
    "\n",
    "        if epoch % (epochCount / 20) == 0:\n",
    "            print('%d / %d Loss_D %.4f' % (epoch, epochCount, discriminatorLoss))"
   ]
  },
  {
   "cell_type": "code",
   "execution_count": 32,
   "metadata": {},
   "outputs": [
    {
     "name": "stdout",
     "output_type": "stream",
     "text": [
      "0 / 100 Loss_D 1.3854\n",
      "5 / 100 Loss_D 1.3852\n",
      "10 / 100 Loss_D 1.3855\n",
      "15 / 100 Loss_D 1.3855\n",
      "20 / 100 Loss_D 1.3856\n",
      "25 / 100 Loss_D 1.3855\n",
      "30 / 100 Loss_D 1.3851\n",
      "35 / 100 Loss_D 1.3854\n",
      "40 / 100 Loss_D 1.3853\n",
      "45 / 100 Loss_D 1.3856\n",
      "50 / 100 Loss_D 1.3850\n",
      "55 / 100 Loss_D 1.3854\n",
      "60 / 100 Loss_D 1.3854\n",
      "65 / 100 Loss_D 1.3854\n",
      "70 / 100 Loss_D 1.3854\n",
      "75 / 100 Loss_D 1.3855\n",
      "80 / 100 Loss_D 1.3855\n",
      "85 / 100 Loss_D 1.3854\n",
      "90 / 100 Loss_D 1.3856\n",
      "95 / 100 Loss_D 1.3853\n"
     ]
    }
   ],
   "source": [
    "train(gen,dis,100,batchSize,noise_range,prior_mu,prior_std,noise_range)\n",
    "\n"
   ]
  },
  {
   "cell_type": "code",
   "execution_count": 33,
   "metadata": {},
   "outputs": [
    {
     "data": {
      "text/plain": [
       "(array([  7.,  33.,  98., 176., 226., 223., 163.,  58.,  13.,   3.]),\n",
       " array([-3.9542654 , -3.6509306 , -3.3475962 , -3.0442615 , -2.7409267 ,\n",
       "        -2.437592  , -2.1342576 , -1.8309228 , -1.5275882 , -1.2242535 ,\n",
       "        -0.92091894], dtype=float32),\n",
       " <a list of 10 Patch objects>)"
      ]
     },
     "execution_count": 33,
     "metadata": {},
     "output_type": "execute_result"
    },
    {
     "data": {
      "image/png": "[encoded data removed]",
      "text/plain": [
       "<Figure size 432x288 with 1 Axes>"
      ]
     },
     "metadata": {
      "needs_background": "light"
     },
     "output_type": "display_data"
    }
   ],
   "source": [
    "x = sampleX(1000,prior_mu,prior_std)\n",
    "y = gen(x).reshape(-1).detach()\n",
    "\n",
    "fig = plt.figure()\n",
    "ax = fig.add_subplot(111)\n",
    "ax.hist(y.reshape(-1), ls='dashed', alpha = 1, lw=3, color= 'b')\n",
    "ax.hist(x.reshape(-1), ls='dashed', alpha = 0.5, lw=3, color= 'r')\n",
    "#ax.hist(x, 50, density=1, facecolor='grey', alpha=0.75)\n",
    "\n",
    "#plt.grid(True)"
   ]
  },
  {
   "cell_type": "code",
   "execution_count": 34,
   "metadata": {},
   "outputs": [
    {
     "data": {
      "text/plain": [
       "(array([984.,   2.,   5.,   4.,   1.,   2.,   0.,   0.,   1.,   1.]),\n",
       " array([0.        , 0.02213633, 0.04427266, 0.06640899, 0.08854532,\n",
       "        0.11068165, 0.13281798, 0.15495431, 0.17709064, 0.19922698,\n",
       "        0.2213633 ], dtype=float32),\n",
       " <a list of 10 Patch objects>)"
      ]
     },
     "execution_count": 34,
     "metadata": {},
     "output_type": "execute_result"
    },
    {
     "data": {
      "image/png": "[encoded data removed]",
      "text/plain": [
       "<Figure size 432x288 with 1 Axes>"
      ]
     },
     "metadata": {
      "needs_background": "light"
     },
     "output_type": "display_data"
    }
   ],
   "source": [
    "fig = plt.figure()\n",
    "ax = fig.add_subplot(111)\n",
    "ax.hist(y.reshape(-1), ls='dashed', alpha = 1, lw=3, color= 'b')\n"
   ]
  },
  {
   "cell_type": "code",
   "execution_count": null,
   "metadata": {},
   "outputs": [],
   "source": [
    "x"
   ]
  },
  {
   "cell_type": "code",
   "execution_count": null,
   "metadata": {},
   "outputs": [],
   "source": [
    "y"
   ]
  },
  {
   "cell_type": "code",
   "execution_count": null,
   "metadata": {},
   "outputs": [],
   "source": []
  }
 ],
 "metadata": {
  "kernelspec": {
   "display_name": "Python 3",
   "language": "python",
   "name": "python3"
  },
  "language_info": {
   "codemirror_mode": {
    "name": "ipython",
    "version": 3
   },
   "file_extension": ".py",
   "mimetype": "text/x-python",
   "name": "python",
   "nbconvert_exporter": "python",
   "pygments_lexer": "ipython3",
   "version": "3.7.6"
  }
 },
 "nbformat": 4,
 "nbformat_minor": 4
}
