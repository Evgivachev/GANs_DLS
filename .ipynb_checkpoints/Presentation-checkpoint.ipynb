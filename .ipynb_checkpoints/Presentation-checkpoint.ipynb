{
 "cells": [
  {
   "cell_type": "code",
   "execution_count": 1,
   "metadata": {},
   "outputs": [],
   "source": [
    "import sys\n",
    "import torch\n",
    "import numpy as np\n",
    "import torch.nn as nn\n",
    "import matplotlib.mlab as mlab\n",
    "import matplotlib.pyplot as plt"
   ]
  },
  {
   "cell_type": "code",
   "execution_count": 21,
   "metadata": {},
   "outputs": [],
   "source": [
    "from Untitled import *"
   ]
  },
  {
   "cell_type": "code",
   "execution_count": 22,
   "metadata": {},
   "outputs": [],
   "source": [
    "gen = Gen()\n",
    "dis = Dis()"
   ]
  },
  {
   "cell_type": "code",
   "execution_count": 23,
   "metadata": {},
   "outputs": [
    {
     "name": "stdout",
     "output_type": "stream",
     "text": [
      "0 / 100 Loss_D 1.3452\n",
      "5 / 100 Loss_D 1.3455\n",
      "10 / 100 Loss_D 1.3433\n",
      "15 / 100 Loss_D 1.3484\n",
      "20 / 100 Loss_D 1.3409\n",
      "25 / 100 Loss_D 1.3428\n",
      "30 / 100 Loss_D 1.3456\n",
      "35 / 100 Loss_D 1.3444\n",
      "40 / 100 Loss_D 1.3442\n",
      "45 / 100 Loss_D 1.3460\n",
      "50 / 100 Loss_D 1.3431\n",
      "55 / 100 Loss_D 1.3433\n",
      "60 / 100 Loss_D 1.3436\n",
      "65 / 100 Loss_D 1.3409\n",
      "70 / 100 Loss_D 1.3454\n",
      "75 / 100 Loss_D 1.3422\n",
      "80 / 100 Loss_D 1.3444\n",
      "85 / 100 Loss_D 1.3435\n",
      "90 / 100 Loss_D 1.3414\n",
      "95 / 100 Loss_D 1.3399\n"
     ]
    }
   ],
   "source": [
    "train(gen,dis,100,batchSize,noise_range,prior_mu,prior_std,noise_range)\n"
   ]
  },
  {
   "cell_type": "code",
   "execution_count": null,
   "metadata": {},
   "outputs": [],
   "source": []
  },
  {
   "cell_type": "code",
   "execution_count": null,
   "metadata": {},
   "outputs": [],
   "source": []
  },
  {
   "cell_type": "code",
   "execution_count": null,
   "metadata": {},
   "outputs": [],
   "source": []
  },
  {
   "cell_type": "markdown",
   "metadata": {},
   "source": [
    "https://pytorch.org/tutorials/beginner/dcgan_faces_tutorial.html"
   ]
  },
  {
   "cell_type": "code",
   "execution_count": 25,
   "metadata": {},
   "outputs": [
    {
     "data": {
      "text/plain": [
       "(array([ 10.,  25., 109., 196., 233., 220., 137.,  54.,  14.,   2.]),\n",
       " array([-4.040504 , -3.7185845, -3.3966649, -3.0747454, -2.7528257,\n",
       "        -2.4309063, -2.1089866, -1.7870672, -1.4651476, -1.143228 ,\n",
       "        -0.8213085], dtype=float32),\n",
       " <a list of 10 Patch objects>)"
      ]
     },
     "execution_count": 25,
     "metadata": {},
     "output_type": "execute_result"
    },
    {
     "data": {
      "image/png": "[encoded data removed]",
      "text/plain": [
       "<Figure size 432x288 with 1 Axes>"
      ]
     },
     "metadata": {
      "needs_background": "light"
     },
     "output_type": "display_data"
    }
   ],
   "source": [
    "x = sampleX(1000,prior_mu,prior_std)\n",
    "z = sampleZ(1000,5)\n",
    "y = gen(z).reshape(-1).detach()\n",
    "fig = plt.figure()\n",
    "ax = fig.add_subplot(111)\n",
    "ax.hist(y.reshape(-1), ls='dashed', alpha = 1, lw=3, color= 'b')\n",
    "ax.hist(x.reshape(-1), ls='dashed', alpha = 0.5, lw=3, color= 'r')\n",
    "#ax.hist(x, 50, density=1, facecolor='grey', alpha=0.75)\n",
    "\n",
    "#plt.grid(True)"
   ]
  },
  {
   "cell_type": "code",
   "execution_count": 26,
   "metadata": {},
   "outputs": [
    {
     "data": {
      "text/plain": [
       "(array([845.,   9.,  19.,  18.,  21.,  22.,  15.,  11.,  19.,  21.]),\n",
       " array([0.        , 0.0058782 , 0.0117564 , 0.01763459, 0.02351279,\n",
       "        0.02939099, 0.03526919, 0.04114739, 0.04702558, 0.05290378,\n",
       "        0.05878198], dtype=float32),\n",
       " <a list of 10 Patch objects>)"
      ]
     },
     "execution_count": 26,
     "metadata": {},
     "output_type": "execute_result"
    },
    {
     "data": {
      "image/png": "[encoded data removed]",
      "text/plain": [
       "<Figure size 432x288 with 1 Axes>"
      ]
     },
     "metadata": {
      "needs_background": "light"
     },
     "output_type": "display_data"
    }
   ],
   "source": [
    "fig = plt.figure()\n",
    "ax = fig.add_subplot(111)\n",
    "ax.hist(y.reshape(-1), ls='dashed', alpha = 1, lw=3, color= 'b')\n"
   ]
  },
  {
   "cell_type": "code",
   "execution_count": null,
   "metadata": {},
   "outputs": [],
   "source": []
  },
  {
   "cell_type": "code",
   "execution_count": null,
   "metadata": {},
   "outputs": [],
   "source": []
  }
 ],
 "metadata": {
  "kernelspec": {
   "display_name": "Python 3",
   "language": "python",
   "name": "python3"
  },
  "language_info": {
   "codemirror_mode": {
    "name": "ipython",
    "version": 3
   },
   "file_extension": ".py",
   "mimetype": "text/x-python",
   "name": "python",
   "nbconvert_exporter": "python",
   "pygments_lexer": "ipython3",
   "version": "3.7.6"
  }
 },
 "nbformat": 4,
 "nbformat_minor": 4
}
